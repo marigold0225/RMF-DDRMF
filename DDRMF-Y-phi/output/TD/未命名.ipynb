{
 "cells": [
  {
   "cell_type": "code",
   "execution_count": 1,
   "id": "3d686dc9",
   "metadata": {},
   "outputs": [],
   "source": [
    "import numpy as np\n",
    "import matplotlib.pyplot as plt\n",
    "from scipy.interpolate import CubicSpline"
   ]
  },
  {
   "cell_type": "code",
   "execution_count": 5,
   "id": "7278710a",
   "metadata": {},
   "outputs": [],
   "source": [
    "global G,c\n",
    "G=6.67e-8\n",
    "c=3e10\n",
    "\n",
    "#Interpolating the EOS\n",
    "\n",
    "sly=np.genfromtxt(\"EOS.dat\",delimiter=\"  \")\n",
    "#nbs=sly[:,1]\n",
    "Es=sly[:,1]*1.7827e12\n",
    "Ps=sly[:,2]*1.59162e33\n",
    "\n",
    "cPs=CubicSpline(Es,Ps)\n",
    "crs=CubicSpline(Ps,Es)\n",
    "#cns=CubicSpline(Ps,nbs)\n",
    "\n",
    "\n",
    "#fps=np.genfromtxt(\"FPS.txt\",delimiter=\"    \")\n",
    "##nbf=fps[:,1]\n",
    "#Ef=fps[:,2]\n",
    "#Pf=fps[:,3]\n",
    "#\n",
    "#cPf=CubicSpline(Ef,Pf)\n",
    "#crf=CubicSpline(Pf,Ef)\n",
    "##cnf=CubicSpline(Pf,nbf)\n",
    "#\n",
    "#\n",
    "#apr=np.genfromtxt(\"apr.txt\", delimiter=\"  \")\n",
    "##nba=apr[:,0]*1e14*c*c\n",
    "#Ea=apr[:,1]*1e14\n",
    "#Pa=apr[:,2]*1e14*c*c\n",
    "#\n",
    "#cPa=CubicSpline(Ea,Pa)\n",
    "#cra=CubicSpline(Pa,Ea)\n",
    "#cna=CubicSpline(Pa,nba)\n",
    "\n",
    "def fp(p,bool):\n",
    "    dp=p/1.e5\n",
    "    if(bool==0):\n",
    "        res=(-crs(p+(2*dp))+8*crs(p+dp)-8*crs(p-dp)+crs(p-(2*dp)))/(12*dp)\n",
    "#    elif(bool==1):\n",
    "#         res=(-crf(p+(2*dp))+8*crf(p+dp)-8*crf(p-dp)+crf(p-(2*dp)))/(12*dp)\n",
    "#    elif(bool==2):\n",
    "#         res=(-cra(p+(2*dp))+8*cra(p+dp)-8*cra(p-dp)+cra(p-(2*dp)))/(12*dp)\n",
    "    return res\n",
    "\n",
    "def f(x,bool):\n",
    "    r=x[0]\n",
    "    m=x[1]\n",
    "    P=x[2]\n",
    "    H=x[3]\n",
    "    B=x[4]\n",
    "    if(bool==0):\n",
    "        rho=crs(P)\n",
    "        F=crs(P+(rho*c*c))\n",
    "#    elif(bool==1):\n",
    "#        rho=crf(P)\n",
    "#        F=crf(P+(rho*c*c))\n",
    "#    elif(bool==2):\n",
    "#        rho=cra(P)\n",
    "#        F=cra(P+(rho*c*c))\n",
    "    dr_dr=1\n",
    "    dm_dr=4.*np.pi*(r**2)*rho\n",
    "    dP_dr=-(((G*m*rho)/(r**2))*(1+(P/(rho*c*c)))*(1+((4*np.pi*P*(r**3))/(m*c*c))))/(1-((2*G*m)/(r*c*c)))\n",
    "    dH_dr=B\n",
    "    dB_dr=2*H*(1-((2*G*m)/(r*c*c)))*((3/(r*r))+(2*((((m*G)/(r*r*c*c))+((G*4*np.pi*r*P)/(c**4)))**2)/(1-((2*G*m)/(r*c*c))))-(2*np.pi*(G/(c**4))*(5*rho*c*c+9*P+F*c*c)))+((2*(B/r))*(-1+((2*G*m)/(r*c*c)))+((((rho*c*c)-P)*G*r*r*np.pi*2)/(c**4)))\n",
    "    \n",
    "    return np.array([dr_dr, dm_dr, dP_dr, dH_dr, dB_dr])\n"
   ]
  },
  {
   "cell_type": "code",
   "execution_count": 20,
   "id": "c9740ccf",
   "metadata": {},
   "outputs": [],
   "source": [
    "\n",
    "def ns_solve(rho_0,bool):\n",
    "    #Initial Conditions\n",
    "    dr=1 #In cm\n",
    "    if(bool==0):\n",
    "        P_0=cPs(rho_0)\n",
    "#    elif(bool==1):\n",
    "#        P_0=cPf(rho_0)\n",
    "#    elif(bool==2):\n",
    "#        P_0=cPa(rho_0)\n",
    "    #print(P_0)\n",
    "    X=np.zeros([5,14000])\n",
    "    X[:,0]=np.array([1,1,P_0,1,2])\n",
    "\n",
    "    #Solve using RK4\n",
    "    for i in range(1,14000):\n",
    "        k1=f(X[:,i-1],bool)\n",
    "        k2=f(X[:,i-1]+k1*0.01*dr,bool)\n",
    "        k3=f(X[:,i-1]+k2*0.01*dr,bool)\n",
    "        k4=f(X[:,i-1]+k3*dr,bool)\n",
    "    \n",
    "        X[:,i]=X[:,i-1]+(dr*(k1+2*k2+2*k3+k4))/6.\n",
    "        if((X[2,i]/P_0)<1e-10):\n",
    "            break\n",
    "\n",
    "    #for j in range(i,80000):\n",
    "        #X=np.delete(X,i,1)\n",
    "\n",
    "    return X[:,i-1]\n",
    "\n",
    "rho=np.arange(1.6e13,3.2e15,0.5e14)\n",
    "rho=np.append(rho,np.arange(3.2e15,6.4e15,0.5e14))\n",
    "print(len(rho))\n",
    "res_s=np.zeros([5,len(rho)])"
   ]
  },
  {
   "cell_type": "raw",
   "id": "ddaca843",
   "metadata": {},
   "source": [
    "print(len(rho))"
   ]
  },
  {
   "cell_type": "code",
   "execution_count": 21,
   "id": "45c97f72",
   "metadata": {},
   "outputs": [
    {
     "name": "stdout",
     "output_type": "stream",
     "text": [
      "812\n",
      "812\n"
     ]
    },
    {
     "ename": "KeyboardInterrupt",
     "evalue": "",
     "output_type": "error",
     "traceback": [
      "\u001b[0;31m---------------------------------------------------------------------------\u001b[0m",
      "\u001b[0;31mKeyboardInterrupt\u001b[0m                         Traceback (most recent call last)",
      "Cell \u001b[0;32mIn [21], line 2\u001b[0m\n\u001b[1;32m      1\u001b[0m \u001b[38;5;28;01mfor\u001b[39;00m i \u001b[38;5;129;01min\u001b[39;00m \u001b[38;5;28mrange\u001b[39m(\u001b[38;5;28mlen\u001b[39m(rho)):\n\u001b[0;32m----> 2\u001b[0m     res_s[:,i]\u001b[38;5;241m=\u001b[39mns_solve(rho[i],\u001b[38;5;241m0\u001b[39m)\n\u001b[1;32m      3\u001b[0m \u001b[38;5;66;03m#    res_f[:,i]=ns_solve(rho[i],1)\u001b[39;00m\n\u001b[1;32m      4\u001b[0m     \u001b[38;5;66;03m#res_a[:,i]=ns_solve(rho[i],2)\u001b[39;00m\n\u001b[1;32m      5\u001b[0m     \u001b[38;5;28mprint\u001b[39m(\u001b[38;5;28mlen\u001b[39m(rho))\n",
      "Cell \u001b[0;32mIn [20], line 22\u001b[0m, in \u001b[0;36mns_solve\u001b[0;34m(rho_0, bool)\u001b[0m\n\u001b[1;32m     19\u001b[0m     k4\u001b[38;5;241m=\u001b[39mf(X[:,i\u001b[38;5;241m-\u001b[39m\u001b[38;5;241m1\u001b[39m]\u001b[38;5;241m+\u001b[39mk3\u001b[38;5;241m*\u001b[39mdr,\u001b[38;5;28mbool\u001b[39m)\n\u001b[1;32m     21\u001b[0m     X[:,i]\u001b[38;5;241m=\u001b[39mX[:,i\u001b[38;5;241m-\u001b[39m\u001b[38;5;241m1\u001b[39m]\u001b[38;5;241m+\u001b[39m(dr\u001b[38;5;241m*\u001b[39m(k1\u001b[38;5;241m+\u001b[39m\u001b[38;5;241m2\u001b[39m\u001b[38;5;241m*\u001b[39mk2\u001b[38;5;241m+\u001b[39m\u001b[38;5;241m2\u001b[39m\u001b[38;5;241m*\u001b[39mk3\u001b[38;5;241m+\u001b[39mk4))\u001b[38;5;241m/\u001b[39m\u001b[38;5;241m6.\u001b[39m\n\u001b[0;32m---> 22\u001b[0m     \u001b[38;5;28;01mif\u001b[39;00m((X[\u001b[38;5;241m2\u001b[39m,i]\u001b[38;5;241m/\u001b[39mP_0)\u001b[38;5;241m<\u001b[39m\u001b[38;5;241m1e-10\u001b[39m):\n\u001b[1;32m     23\u001b[0m         \u001b[38;5;28;01mbreak\u001b[39;00m\n\u001b[1;32m     25\u001b[0m \u001b[38;5;66;03m#for j in range(i,80000):\u001b[39;00m\n\u001b[1;32m     26\u001b[0m     \u001b[38;5;66;03m#X=np.delete(X,i,1)\u001b[39;00m\n",
      "\u001b[0;31mKeyboardInterrupt\u001b[0m: "
     ]
    }
   ],
   "source": [
    "for i in range(len(rho)):\n",
    "    res_s[:,i]=ns_solve(rho[i],0)\n",
    "#    res_f[:,i]=ns_solve(rho[i],1)\n",
    "    #res_a[:,i]=ns_solve(rho[i],2)\n",
    "    print(len(rho))\n",
    "\n",
    "R_s=res_s[0,]/1.e5\n",
    "#R_f=res_f[0,]/1e5\n",
    "#R_a=res_a[0,]/1e5\n",
    "\n",
    "M_s=res_s[1,]/2e33\n",
    "#M_f=res_f[1,]/2e33\n",
    "#M_a=res_a[1,]/2e33\n",
    "\n",
    "B_s=res_s[4,]\n",
    "#B_f=res_f[4,]\n",
    "#B_a=res_a[4,]\n",
    "\n",
    "H_s=res_s[3,]\n",
    "#H_f=res_f[3,]\n",
    "#H_a=res_a[3,]\n",
    "\n",
    "y_s=(R_s*1e5*B_s)/H_s\n",
    "#y_f=(R_f*1e5*B_f)/H_f\n",
    "#y_a=(R_a*B_a)/H_a\n",
    "\n",
    "C_s=(2*G*M_s*2e33)/(R_s*1e5*c*c)\n",
    "#C_f=(2*G*M_f*2e33)/(R_f*1e5*c*c)\n",
    "#C_a=(2*G*M_a*2e33)/(R_a*1e5*c*c)\n",
    "\n",
    "def k(y,C):\n",
    "    k2=(1.6*(C**5)*((1-2*C)**2)*(2+2*C*(y-1)-y))/(2*C*(6-3*y+3*C*(5*y-8))+4*(C**3)*(13-11*y+C*(3*y-2)+2*C*C*(1+y))+3*((1-2*C)**2)*(2-y+2*C*(y-1))*np.log(1-2*C))\n",
    "    return k2\n",
    "\n",
    "k2_s=k(y_s,C_s)\n",
    "#k2_f=k(y_f,C_f)\n",
    "#k2_a=k(y_a,C_a)\n",
    "\n",
    "\n",
    "L_s=(2.*k2_s)/(3.*C_s**5)\n",
    "#L_f=(2.*k2_f)/(3.*C_f**5)\n",
    "#L_a=(2.*k2_a*((R_a*1e5)**5))/(3.*G)"
   ]
  },
  {
   "cell_type": "code",
   "execution_count": 47,
   "id": "5daf13a1",
   "metadata": {},
   "outputs": [
    {
     "name": "stdout",
     "output_type": "stream",
     "text": [
      "128\n"
     ]
    }
   ],
   "source": [
    "rho=np.arange(1.6e13,3.2e15,0.5e14)\n",
    "rho=np.append(rho,np.arange(3.2e15,6.4e15,0.5e14))\n",
    "print(len(rho))"
   ]
  },
  {
   "cell_type": "code",
   "execution_count": null,
   "id": "fcb7541d",
   "metadata": {},
   "outputs": [],
   "source": []
  },
  {
   "cell_type": "code",
   "execution_count": null,
   "id": "67960ac3",
   "metadata": {},
   "outputs": [],
   "source": []
  }
 ],
 "metadata": {
  "kernelspec": {
   "display_name": "Python 3 (ipykernel)",
   "language": "python",
   "name": "python3"
  },
  "language_info": {
   "codemirror_mode": {
    "name": "ipython",
    "version": 3
   },
   "file_extension": ".py",
   "mimetype": "text/x-python",
   "name": "python",
   "nbconvert_exporter": "python",
   "pygments_lexer": "ipython3",
   "version": "3.10.7"
  }
 },
 "nbformat": 4,
 "nbformat_minor": 5
}
